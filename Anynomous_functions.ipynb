{
  "nbformat": 4,
  "nbformat_minor": 0,
  "metadata": {
    "colab": {
      "provenance": []
    },
    "kernelspec": {
      "name": "python3",
      "display_name": "Python 3"
    },
    "language_info": {
      "name": "python"
    }
  },
  "cells": [
    {
      "cell_type": "markdown",
      "source": [
        "**Anynomous Function:**Function without name and commonly created using the lambda keyword"
      ],
      "metadata": {
        "id": "347t9rcZXxSq"
      }
    },
    {
      "cell_type": "code",
      "execution_count": 1,
      "metadata": {
        "id": "yiPvIARSIW3R"
      },
      "outputs": [],
      "source": [
        " func =lambda a:a*a"
      ]
    },
    {
      "cell_type": "code",
      "source": [
        "print(func(2))"
      ],
      "metadata": {
        "colab": {
          "base_uri": "https://localhost:8080/"
        },
        "id": "JSo7AteUIhqC",
        "outputId": "02172b0b-446b-4f6f-b6a6-b242759e6279"
      },
      "execution_count": 3,
      "outputs": [
        {
          "output_type": "stream",
          "name": "stdout",
          "text": [
            "4\n"
          ]
        }
      ]
    },
    {
      "cell_type": "code",
      "source": [
        "anyno=lambda a,b : a+b\n",
        "print(anyno(2,3))"
      ],
      "metadata": {
        "colab": {
          "base_uri": "https://localhost:8080/"
        },
        "id": "GE37ByzIIvBA",
        "outputId": "2fce7f74-2743-4ddb-b4f5-2301f4d54817"
      },
      "execution_count": 4,
      "outputs": [
        {
          "output_type": "stream",
          "name": "stdout",
          "text": [
            "5\n"
          ]
        }
      ]
    },
    {
      "cell_type": "code",
      "source": [
        "fun = lambda a,b :a-b\n",
        "print(fun(5,6))"
      ],
      "metadata": {
        "colab": {
          "base_uri": "https://localhost:8080/"
        },
        "id": "opqJRb8-JDrg",
        "outputId": "19c687bf-74e5-4781-b0f3-d17a01cdc838"
      },
      "execution_count": 5,
      "outputs": [
        {
          "output_type": "stream",
          "name": "stdout",
          "text": [
            "-1\n"
          ]
        }
      ]
    },
    {
      "cell_type": "markdown",
      "source": [
        "\n",
        "\n",
        "1.   Fillter()\n",
        "2.   map()\n",
        "3.   reduce()\n",
        "\n"
      ],
      "metadata": {
        "id": "A_AHyRqtYLzX"
      }
    },
    {
      "source": [
        "def is_even(n):\n",
        "  if n%2==0:\n",
        "    return True  # Indented block to execute if n is even\n",
        "  return False #Added this line to make is_even function work as expected\n",
        "num = [2,3,6,8,4,2,9]\n",
        "even = list(filter(is_even, num))\n",
        "print(even)"
      ],
      "cell_type": "code",
      "metadata": {
        "colab": {
          "base_uri": "https://localhost:8080/"
        },
        "id": "iAS6WXNUNVkK",
        "outputId": "1c3c9b00-3d2f-4c2e-e8d4-d8ef11b6f621"
      },
      "execution_count": 7,
      "outputs": [
        {
          "output_type": "stream",
          "name": "stdout",
          "text": [
            "[2, 6, 8, 4, 2]\n"
          ]
        }
      ]
    },
    {
      "cell_type": "code",
      "source": [
        "def is_even(n):\n",
        "    return n%2==0\n",
        "num = [2,3,6,8,4,2,9]\n",
        "even = list(filter(is_even, num))\n",
        "print(even)"
      ],
      "metadata": {
        "colab": {
          "base_uri": "https://localhost:8080/"
        },
        "id": "39bUXArKNfM_",
        "outputId": "52bd2fa6-5abe-4f45-f1b5-82ecef4f2f1a"
      },
      "execution_count": 8,
      "outputs": [
        {
          "output_type": "stream",
          "name": "stdout",
          "text": [
            "[2, 6, 8, 4, 2]\n"
          ]
        }
      ]
    },
    {
      "cell_type": "code",
      "source": [
        "nums = [3,2,6,8,4,6,2,9]\n",
        "evens = list(filter(lambda n : n%2==0, nums))\n",
        "print(evens)\n"
      ],
      "metadata": {
        "colab": {
          "base_uri": "https://localhost:8080/"
        },
        "id": "gGBjYybYSDZg",
        "outputId": "7c6597f8-d225-49ab-ad20-5f66d8343925"
      },
      "execution_count": 9,
      "outputs": [
        {
          "output_type": "stream",
          "name": "stdout",
          "text": [
            "[2, 6, 8, 4, 6, 2]\n"
          ]
        }
      ]
    },
    {
      "cell_type": "code",
      "source": [
        "nums = [3,2,6,8,4,6,2,9]\n",
        "evens = list(filter(lambda n : n%2==0, nums))\n",
        "doubles = list(map(lambda n :n+2, evens))\n",
        "print(doubles)"
      ],
      "metadata": {
        "colab": {
          "base_uri": "https://localhost:8080/"
        },
        "id": "6vSn0MOgWjK_",
        "outputId": "71cfd250-23d9-4015-e468-f3688ae5e0c0"
      },
      "execution_count": 11,
      "outputs": [
        {
          "output_type": "stream",
          "name": "stdout",
          "text": [
            "[4, 8, 10, 6, 8, 4]\n"
          ]
        }
      ]
    },
    {
      "cell_type": "code",
      "source": [
        "from functools import reduce\n",
        "nums = [3,2,6,8,4,6,2,9]\n",
        "evens = list(filter(lambda n : n%2==0, nums))\n",
        "print(evens)\n",
        "doubles = list(map(lambda n :n+2, evens))\n",
        "print(doubles)\n",
        "sum = reduce(lambda a,b : a+b, doubles)\n",
        "print(sum)"
      ],
      "metadata": {
        "colab": {
          "base_uri": "https://localhost:8080/"
        },
        "id": "f8iRW0IlW7Dr",
        "outputId": "5314f265-a9b0-46a4-8192-054f613ef922"
      },
      "execution_count": 14,
      "outputs": [
        {
          "output_type": "stream",
          "name": "stdout",
          "text": [
            "[2, 6, 8, 4, 6, 2]\n",
            "[4, 8, 10, 6, 8, 4]\n",
            "40\n"
          ]
        }
      ]
    },
    {
      "cell_type": "code",
      "source": [],
      "metadata": {
        "id": "cjBKZiLsXl--"
      },
      "execution_count": null,
      "outputs": []
    }
  ]
}