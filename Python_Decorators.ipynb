{
  "nbformat": 4,
  "nbformat_minor": 0,
  "metadata": {
    "colab": {
      "provenance": []
    },
    "kernelspec": {
      "name": "python3",
      "display_name": "Python 3"
    },
    "language_info": {
      "name": "python"
    }
  },
  "cells": [
    {
      "cell_type": "markdown",
      "source": [
        "def:In Python, decorators are functions that allow you to modify or extend the behavior of other functions or methods without permanently changing their code. They provide a way to add functionality to existing code in a clean and reusable manner.\n",
        "Key Points for Interview:\n",
        "A decorator takes a function as input and returns a new function with enhanced functionality.\n",
        "Decorators use the @decorator_name syntax for convenience.\n",
        "They are often used for logging, enforcing access control, measuring execution time, or modifying inputs/outputs."
      ],
      "metadata": {
        "id": "-tqhLi2kl-hY"
      }
    },
    {
      "cell_type": "code",
      "source": [
        "def div(a,b):\n",
        "  print(a/b)\n",
        "\n",
        "\n",
        "div(2,4)"
      ],
      "metadata": {
        "colab": {
          "base_uri": "https://localhost:8080/"
        },
        "id": "fDlsTR6_hclT",
        "outputId": "10eadd25-78e2-47af-eb77-3b7a0d2bdbe1"
      },
      "execution_count": 4,
      "outputs": [
        {
          "output_type": "stream",
          "name": "stdout",
          "text": [
            "0.5\n"
          ]
        }
      ]
    },
    {
      "cell_type": "code",
      "source": [
        "def div(a,b):\n",
        "  print(a/b)\n",
        "\n",
        "\n",
        "div(4,2)"
      ],
      "metadata": {
        "colab": {
          "base_uri": "https://localhost:8080/"
        },
        "id": "HE-NMqbglNbO",
        "outputId": "2e88c6b7-6dd4-4cce-8ff9-4f42e43700bc"
      },
      "execution_count": 5,
      "outputs": [
        {
          "output_type": "stream",
          "name": "stdout",
          "text": [
            "2.0\n"
          ]
        }
      ]
    },
    {
      "source": [
        "#2nd  code i pass (4,2) im getting ouput as 2.0\n",
        "#1st code i pass 2,4 as input imgetting ouput as 0.5 but i want to get 2.0 as ouput instead of 0.5\n",
        "#below inm using the decorator concept to swap the numbers\n",
        "def divi(a,b):\n",
        "  print(a/b)\n",
        "\n",
        "def decorator_div(func): # Define decorator_div outside divi\n",
        "  def inner(a,b):\n",
        "    if a<b:\n",
        "      a,b = b,a\n",
        "    return func(a,b)\n",
        "  return inner\n",
        "\n",
        "div = decorator_div(divi)\n",
        "div(2,4)"
      ],
      "cell_type": "code",
      "metadata": {
        "colab": {
          "base_uri": "https://localhost:8080/"
        },
        "id": "vAd-2YiAiDiZ",
        "outputId": "d5b15d32-6c40-4a03-c3cd-bd9b86868c73"
      },
      "execution_count": 3,
      "outputs": [
        {
          "output_type": "stream",
          "name": "stdout",
          "text": [
            "2.0\n"
          ]
        }
      ]
    }
  ]
}