{
  "cells": [
    {
      "cell_type": "markdown",
      "metadata": {
        "id": "aWcp2hXTBEXD"
      },
      "source": [
        "# Assignment Instructions\n",
        "\n",
        "`Hello Innominion,`\n",
        "\n",
        "- **Try to attempt all the questions in every possible way.**\n",
        "- **Some other topics are required to solve some questions. don't panic.**\n",
        "- **Those questions can be answered after the topics are taught.**\n",
        "\n",
        "\n",
        "- `Join Mentoring Session for the Support/Doubts Resolving with Our Technical Mentors (2.00 PM - 6.00 PM  Mon-Sat)`\n",
        "\n",
        "Happy Learning !!!"
      ]
    },
    {
      "cell_type": "markdown",
      "metadata": {
        "id": "HY9bzH23BEXJ"
      },
      "source": [
        "## Basics of Python"
      ]
    },
    {
      "cell_type": "markdown",
      "metadata": {
        "id": "_Jdcus03BEXJ"
      },
      "source": [
        "> `Question:` Print your name"
      ]
    },
    {
      "cell_type": "code",
      "source": [
        "print(\"My name is DAARA ARUNRAJ\")"
      ],
      "metadata": {
        "colab": {
          "base_uri": "https://localhost:8080/"
        },
        "id": "HYj6qgDPBSrr",
        "outputId": "0a07040c-786d-4a31-ff10-9a0b4b1853cc"
      },
      "execution_count": 1,
      "outputs": [
        {
          "output_type": "stream",
          "name": "stdout",
          "text": [
            "My name is DAARA ARUNRAJ\n"
          ]
        }
      ]
    },
    {
      "cell_type": "code",
      "execution_count": null,
      "metadata": {
        "id": "QvtVYuzjBEXK",
        "outputId": "c92d2b7d-1151-4e4a-815c-1689bc92e17b"
      },
      "outputs": [
        {
          "name": "stdout",
          "output_type": "stream",
          "text": [
            "My name is Innomatics\n"
          ]
        }
      ],
      "source": [
        "# CODE HERE\n"
      ]
    },
    {
      "cell_type": "markdown",
      "metadata": {
        "id": "7IRH9GO1BEXM"
      },
      "source": [
        "> `Question:` What is a variable? Write a Few words about Variables. Create a Variable with an Example."
      ]
    },
    {
      "cell_type": "code",
      "execution_count": 2,
      "metadata": {
        "colab": {
          "base_uri": "https://localhost:8080/"
        },
        "id": "85JQDRrfBEXM",
        "outputId": "46c4dac4-be9d-4de6-f1de-03e76b531964"
      },
      "outputs": [
        {
          "output_type": "stream",
          "name": "stdout",
          "text": [
            "10\n"
          ]
        }
      ],
      "source": [
        "# Variable is a container used to store the data\n",
        "#rules for declaring a variable\n",
        "# 1. must start with a letter or underscore\n",
        "#2. Cannot start with numbers and any speccial charecters except underscore\n",
        "#3.must contains alpha numeric chareters A-z and\n",
        "\n",
        "a = 10\n",
        "print(a)"
      ]
    },
    {
      "cell_type": "code",
      "execution_count": null,
      "metadata": {
        "id": "jEV9pcNaBEXN"
      },
      "outputs": [],
      "source": [
        "# Code Here"
      ]
    },
    {
      "cell_type": "markdown",
      "metadata": {
        "id": "tljZvNECBEXN"
      },
      "source": [
        ">`Question:` Assume that we execute the following assignment statements:\n",
        "width = 17\n",
        "height = 12.0\n",
        "delimiter = '.'\n",
        "For each of the following expressions, write the value of the expression and the type (of the value of\n",
        "the expression).\n",
        "1. width/2\n",
        "2. width/2.0\n",
        "3. height/3\n",
        "4. 1 + 2 * 5\n",
        "5. delimiter * 5"
      ]
    },
    {
      "cell_type": "code",
      "source": [
        "width = 17\n",
        "height = 12.0\n",
        "delimiter = '.'\n",
        "print(width/2)\n",
        "print(width/2.0)\n",
        "print(height/3)\n",
        "print(1+2*5)\n",
        "print(delimiter*5)"
      ],
      "metadata": {
        "colab": {
          "base_uri": "https://localhost:8080/"
        },
        "id": "sMQed-6cCSDi",
        "outputId": "d0131ebb-7e6b-49fb-fe6d-e4d67c1e55c6"
      },
      "execution_count": 5,
      "outputs": [
        {
          "output_type": "stream",
          "name": "stdout",
          "text": [
            "8.5\n",
            "8.5\n",
            "4.0\n",
            "11\n",
            ".....\n"
          ]
        }
      ]
    },
    {
      "cell_type": "code",
      "execution_count": null,
      "metadata": {
        "id": "VCHTF-gbBEXN"
      },
      "outputs": [],
      "source": [
        "# CODE HERE"
      ]
    },
    {
      "cell_type": "raw",
      "metadata": {
        "id": "fHCtHdOFBEXP"
      },
      "source": [
        "# Sample Outputs\n",
        "1. width/2 = 8.5\n",
        "2. width/2.0 = 8.5\n",
        "3. height/3 = 4.0\n",
        "4. 11\n",
        "5. ....."
      ]
    },
    {
      "cell_type": "markdown",
      "metadata": {
        "id": "VNxE7e3iBEXP"
      },
      "source": [
        "> `Question:` Add two number by taking variable names as first and seccond"
      ]
    },
    {
      "cell_type": "code",
      "execution_count": 8,
      "metadata": {
        "colab": {
          "base_uri": "https://localhost:8080/"
        },
        "id": "RsRJhSTTBEXP",
        "outputId": "3dbdb961-7f70-4228-8684-a6f0c0be5cd6"
      },
      "outputs": [
        {
          "output_type": "stream",
          "name": "stdout",
          "text": [
            "enter the first number is : 100\n",
            "enter the second number is : 200\n",
            "Addition of two numbers are :  300\n"
          ]
        }
      ],
      "source": [
        "first_number = int(input(\"enter the first number is : \"))\n",
        "second_number = int(input(\"enter the second number is : \"))\n",
        "print(\"Addition of two numbers are : \",first_number + second_number)"
      ]
    },
    {
      "cell_type": "code",
      "execution_count": null,
      "metadata": {
        "id": "3RgXB-JIBEXQ",
        "outputId": "005d75f3-3d17-4ab0-e05b-57a87aded897"
      },
      "outputs": [
        {
          "name": "stdout",
          "output_type": "stream",
          "text": [
            "first number is : 100\n",
            "second number is : 200\n",
            "Addition of two numbers are : 300\n"
          ]
        }
      ],
      "source": []
    },
    {
      "cell_type": "markdown",
      "metadata": {
        "id": "JH9DnMtgBEXQ"
      },
      "source": [
        "> `Question:` Add your first name and second name"
      ]
    },
    {
      "cell_type": "code",
      "execution_count": 9,
      "metadata": {
        "colab": {
          "base_uri": "https://localhost:8080/"
        },
        "id": "tuH0OovwBEXQ",
        "outputId": "d4878808-61b1-4449-a0b0-ea857dc2e450"
      },
      "outputs": [
        {
          "output_type": "stream",
          "name": "stdout",
          "text": [
            "enter the first name is : DAARA\n",
            "enter the second name is : ARUNRAJ\n",
            "Addition of two names are :  DAARAARUNRAJ\n"
          ]
        }
      ],
      "source": [
        "# CODE HERE\n",
        "first_name = input(\"enter the first name is : \")\n",
        "second_name = input(\"enter the second name is : \")\n",
        "print(\"Addition of two names are : \",first_name + second_name)"
      ]
    },
    {
      "cell_type": "code",
      "execution_count": null,
      "metadata": {
        "id": "IE7Rh9XEBEXR",
        "outputId": "1f34c0be-5b4c-4faa-b214-210b52e6d841"
      },
      "outputs": [
        {
          "name": "stdout",
          "output_type": "stream",
          "text": [
            "My first name is : Sachin\n",
            "My second name is : Tendulkar\n",
            "My full name is : Sachin Tendulkar\n"
          ]
        }
      ],
      "source": []
    },
    {
      "cell_type": "code",
      "execution_count": null,
      "metadata": {
        "id": "qFSl_pxeBEXR"
      },
      "outputs": [],
      "source": []
    },
    {
      "cell_type": "markdown",
      "metadata": {
        "id": "ZLy6ePZeBEXR"
      },
      "source": [
        "> `Question:` print the datatypes of the following\n",
        "- 10,'10',True,10.5"
      ]
    },
    {
      "cell_type": "code",
      "execution_count": 10,
      "metadata": {
        "colab": {
          "base_uri": "https://localhost:8080/"
        },
        "id": "gWqoN0S5BEXR",
        "outputId": "0462bcf4-7dc7-454a-9b56-77b10daddaa1"
      },
      "outputs": [
        {
          "output_type": "stream",
          "name": "stdout",
          "text": [
            "<class 'int'>\n",
            "<class 'str'>\n",
            "<class 'bool'>\n",
            "<class 'float'>\n"
          ]
        }
      ],
      "source": [
        "# CODE HERE\n",
        "print(type(10))\n",
        "print(type('10'))\n",
        "print(type(True))\n",
        "print(type(10.5))"
      ]
    },
    {
      "cell_type": "code",
      "execution_count": null,
      "metadata": {
        "id": "5sMvD68nBEXS",
        "outputId": "2b3fcaa9-1bd7-4a71-c784-78cbc23853a0"
      },
      "outputs": [
        {
          "name": "stdout",
          "output_type": "stream",
          "text": [
            "10 -  <class 'int'>\n",
            "'10' -  <class 'str'>\n",
            "True -  <class 'bool'>\n",
            "10.5 -  <class 'float'>\n"
          ]
        }
      ],
      "source": []
    },
    {
      "cell_type": "markdown",
      "metadata": {
        "id": "VbwE8Le9BEXS"
      },
      "source": [
        " `Question:`\n",
        "> - num_int = 123\n",
        "> - num_str = \"456\"\n",
        "> - Add num_int and num_str\n",
        "- `hint: first need to convert num_str into integer`"
      ]
    },
    {
      "cell_type": "code",
      "execution_count": 13,
      "metadata": {
        "colab": {
          "base_uri": "https://localhost:8080/"
        },
        "id": "KQIua94fBEXS",
        "outputId": "bfc31c08-ba53-498e-d7e2-204b879e2f82"
      },
      "outputs": [
        {
          "output_type": "stream",
          "name": "stdout",
          "text": [
            "Addition of 123 and 456 is : 456\n"
          ]
        }
      ],
      "source": [
        "# CODE HERE\n",
        "num_int = 123\n",
        "num_str = \"456\"\n",
        "num_str = int(num_str)\n",
        "print(\"Addition of {} and {} is : {}\".format(num_int,num_str,num_str))"
      ]
    },
    {
      "cell_type": "code",
      "execution_count": null,
      "metadata": {
        "id": "J1Bv85thBEXS",
        "outputId": "b3a7fad4-d22a-4f1e-8633-094a50632223"
      },
      "outputs": [
        {
          "name": "stdout",
          "output_type": "stream",
          "text": [
            "Addition of 123 and 456 is :  579\n"
          ]
        }
      ],
      "source": []
    },
    {
      "cell_type": "code",
      "execution_count": null,
      "metadata": {
        "id": "DXsBe4bdBEXT"
      },
      "outputs": [],
      "source": []
    },
    {
      "cell_type": "markdown",
      "metadata": {
        "id": "JuBhSFtPBEXT"
      },
      "source": [
        "### Advanced Questions"
      ]
    },
    {
      "cell_type": "markdown",
      "metadata": {
        "id": "L5v4GTHfBEXT"
      },
      "source": [
        "> `Question:` The volume of a sphere with radius r is  4/3πr3  . What is the volume of a sphere with radius 5?"
      ]
    },
    {
      "cell_type": "code",
      "execution_count": 14,
      "metadata": {
        "colab": {
          "base_uri": "https://localhost:8080/"
        },
        "id": "DeGydxTXBEXT",
        "outputId": "9101cd2c-fbfb-48f2-ead4-33a94db100d8"
      },
      "outputs": [
        {
          "output_type": "stream",
          "name": "stdout",
          "text": [
            "volume of sphere is :  523.3333333333334\n"
          ]
        }
      ],
      "source": [
        "# CODE HERE\n",
        "r = 5\n",
        "print(\"volume of sphere is : \",(4/3)*3.14*r**3)"
      ]
    },
    {
      "cell_type": "markdown",
      "metadata": {
        "id": "zIRZPbkiBEXU"
      },
      "source": [
        "> `Question:` Suppose the cover price of a book is Rs.24.95, but bookstores get a 40% discount. Shipping costs Rs.3 for the first copy and 75 paise for each additional copy. What is the total wholesale cost for 60 copies?"
      ]
    },
    {
      "cell_type": "code",
      "execution_count": 15,
      "metadata": {
        "colab": {
          "base_uri": "https://localhost:8080/"
        },
        "id": "RZQ1L-2LBEXU",
        "outputId": "70883d69-579e-4605-fd13-44cdddddbd9c"
      },
      "outputs": [
        {
          "output_type": "stream",
          "name": "stdout",
          "text": [
            "Total wholesale cost for 60 copies is: Rs.945.45\n"
          ]
        }
      ],
      "source": [
        "# CODE HERE\n",
        "# Constants\n",
        "cover_price = 24.95\n",
        "discount_rate = 0.40\n",
        "num_copies = 60\n",
        "shipping_first_copy = 3.00\n",
        "shipping_additional_copy = 0.75  # in Rs.\n",
        "\n",
        "# Calculate the wholesale price after discount\n",
        "discounted_price = cover_price * (1 - discount_rate)\n",
        "\n",
        "# Calculate shipping cost\n",
        "total_shipping_cost = shipping_first_copy + (num_copies - 1) * shipping_additional_copy\n",
        "\n",
        "# Calculate total cost for all copies\n",
        "total_cost = (discounted_price * num_copies) + total_shipping_cost\n",
        "\n",
        "# Print the total wholesale cost\n",
        "print(\"Total wholesale cost for {} copies is: Rs.{:.2f}\".format(num_copies, total_cost))\n"
      ]
    },
    {
      "cell_type": "code",
      "execution_count": null,
      "metadata": {
        "id": "TfnrjnibBEXV"
      },
      "outputs": [],
      "source": []
    },
    {
      "cell_type": "code",
      "execution_count": null,
      "metadata": {
        "id": "0xSb0fD4BEXV"
      },
      "outputs": [],
      "source": []
    },
    {
      "cell_type": "markdown",
      "metadata": {
        "id": "KOXLPTgsBEXV"
      },
      "source": [
        "# [Innomatics Research Labs](https:/innomatics.in/)\n",
        "[www.innomatics.in](https:/innomatics.in/)"
      ]
    }
  ],
  "metadata": {
    "kernelspec": {
      "display_name": "Python 3",
      "language": "python",
      "name": "python3"
    },
    "language_info": {
      "codemirror_mode": {
        "name": "ipython",
        "version": 3
      },
      "file_extension": ".py",
      "mimetype": "text/x-python",
      "name": "python",
      "nbconvert_exporter": "python",
      "pygments_lexer": "ipython3",
      "version": "3.8.5"
    },
    "colab": {
      "provenance": []
    }
  },
  "nbformat": 4,
  "nbformat_minor": 0
}